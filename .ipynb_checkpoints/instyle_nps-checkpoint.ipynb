{
 "cells": [
  {
   "cell_type": "markdown",
   "id": "959ffb60",
   "metadata": {},
   "source": [
    "# I. Business understanting"
   ]
  },
  {
   "cell_type": "markdown",
   "id": "c8ed4cff",
   "metadata": {},
   "source": [
    "## I.1. Avaliar a situação"
   ]
  },
  {
   "cell_type": "markdown",
   "id": "5ebbb2ff",
   "metadata": {},
   "source": [
    "**1. Descrição do problema de negócio**\n",
    "\n",
    "A InStyle é uma das maiores lojas de roupas dos Estados Unidos que **passa por problemas de customer experience** ou experiência do cliente.\n",
    "    \n",
    "O grande desafio de escalar o faturamento de uma loja é **manter a qualidade do produto e a taxa de satisfação do cliente em alta**.\n",
    "    \n",
    "À medida que a empresa alcance mais clientes, **os processos internos** de vendas que começa com a concepção do produto, passam pela divulgação do marketing e chegam até os sistemas de pagamento do financeiro **começam a apresentar problemas**.\n",
    "    \n",
    "O time de produtos tem dificuldade em determinar a necessidade da maioria dos clientes. O time de marketing enfrente desafios para determinar o cliente ideal e o time de desenvolvimento sofre com os grandes volumes de acessos no site e em seu aplicativo, causando quedas de sistema e tornando o site inoperante por algumas horas, impedindo as pessoas de comprar e assim, **gerando muitas reclamações no atendimento**, liderado pelo time de customer experience.\n",
    "    \n",
    "Portanto, a medição da satisfação dos clientes é extremamente importante para a empresa manter a boa reputação no mercado.\n",
    "\n",
    "**2. Contexto do problema**\n",
    "    \n",
    "A empresa é uma das maiores lojas de roupas dos Estados Unidos e está experimentando um notável crescimento. Esta **escalada traz consigo desafios para manter a qualidade do produto e a satisfação do cliente em níveis elevados.**\n",
    "\n",
    "**3. Identificar o ponto verdadeiro ponto focal / público alvo**\n",
    "    \n",
    "O time de customer experience desempenha um papel crucial como guardião da boa reputação da empresa, sendo responsável por monitorar métricas de desempenho relacionadas à satisfação do cliente. Diante disso, o projeto será iniciado com um enfoque voltado à perspectiva dessa equipe."
   ]
  },
  {
   "cell_type": "markdown",
   "id": "d8794f78",
   "metadata": {},
   "source": [
    "## I.2. Determinar o objetivo do negócio"
   ]
  },
  {
   "cell_type": "markdown",
   "id": "ccfd707e",
   "metadata": {},
   "source": [
    "**1. Por que é importante para o negócio?**\n",
    "\n",
    "A medição da satisfação dos clientes é extremamente importante para a empresa na totalidade. Pois, permite entender as necessidades dos clientes, suas expectativas e desafios internos para fornecer soluções que atendam às suas demandas.\n",
    "\n",
    "**2. Quais são as dores / desafio / problema atual?**\n",
    "\n",
    "O time de produtos tem dificuldade em determinar a necessidade da maioria dos clientes. O time de marketing enfrente desafios para determinar o cliente ideal e o time de desenvolvimento sofre com os grandes volumes de acessos no site e em seu aplicativo, causando quedas de sistema e tornando o site inoperante por algumas horas, impedindo as pessoas de comprar e assim, gerando muitas reclamações no atendimento, liderado pelo time de customer experience.\n",
    "\n",
    "**3. Quais são os resultados esperados? Quais as principais consequências esperadas?**\n",
    "\n",
    "O objetivo principal do projeto é **desenvolver um algoritmo de previsão de satisfação do cliente e fornecer informações valiosas ao time de customer experience**, permitindo-lhes analisar e compreender como a empresa pode aprimorar seus produtos, serviços e processos internos. \n",
    "\n",
    "Os próximos passos são: priorizar as melhorias e acompanhar os demais times em suas respectivas necessidades."
   ]
  },
  {
   "cell_type": "markdown",
   "id": "94199109",
   "metadata": {},
   "source": [
    "## I.3. Produzir o plano do projeto"
   ]
  },
  {
   "cell_type": "markdown",
   "id": "bbe08af7",
   "metadata": {},
   "source": [
    "**1. Saída**\n",
    "\n",
    "Algoritmo de previsão de satisfação do cliente e possíveis insigths.\n",
    "\n",
    "**2. Processo**\n",
    "\n",
    "- Utilizar o framework CRISP-DM como passso a passo.\n",
    "- Tabela de satisfação dos clientes;\n",
    "- Gráficos de visualização.\n",
    "\n",
    "**3. Entrada**\n",
    "\n",
    "- Fonte de dados: [kaggle](https://www.kaggle.com/competitions/instyle-nps/data);\n",
    "- Ferramentas: Jupyter."
   ]
  },
  {
   "cell_type": "markdown",
   "id": "46839a3f",
   "metadata": {},
   "source": [
    "## I.4. Determinar o objetivo da mineração"
   ]
  },
  {
   "cell_type": "markdown",
   "id": "bae4735b",
   "metadata": {},
   "source": [
    "**Descrever os cenários**\n",
    "\n",
    "**Cenário 1: Classificação de clientes em satisfeito ou insatisfeito**\n",
    "\n",
    "* Dado que o time de Customer Experience possui uma planilha com dados de clientes\n",
    "* Quando o algoritmo de previsão é executado para classificar os clientes em \"Satisfeito\" ou \"Insatisfeito”\n",
    "* Então o algoritmo deve atribuir o status de satisfação a cada cliente com **maior precisão**\n",
    "\n",
    "**Cenário 2: Análise das principais razões de insatisfação**\n",
    "    \n",
    "* Dado que o algoritmo identificou os clientes classificados como \"Insatisfeito”\n",
    "* Quando analisamos os principais motivos de insatisfação\n",
    "* Então deve obter insights sobre os problemas mais recorrentes enfrentados pelos clientes"
   ]
  },
  {
   "cell_type": "markdown",
   "id": "bfc42855",
   "metadata": {},
   "source": [
    "# 0. IMPORTS"
   ]
  },
  {
   "cell_type": "markdown",
   "id": "9b39d67c",
   "metadata": {},
   "source": [
    "## 0.1. Importing libraries"
   ]
  },
  {
   "cell_type": "code",
   "execution_count": 80,
   "id": "ffc4599f",
   "metadata": {
    "ExecuteTime": {
     "end_time": "2023-08-01T17:46:01.184080Z",
     "start_time": "2023-08-01T17:46:01.163299Z"
    }
   },
   "outputs": [],
   "source": [
    "import pandas as pd\n",
    "import matplotlib.pyplot as plt\n",
    "import seaborn as sns\n",
    "import inflection"
   ]
  },
  {
   "cell_type": "markdown",
   "id": "59d0865a",
   "metadata": {},
   "source": [
    "## 0.2. Loading data"
   ]
  },
  {
   "cell_type": "code",
   "execution_count": 24,
   "id": "a03fd455",
   "metadata": {
    "ExecuteTime": {
     "end_time": "2023-07-31T18:04:51.016442Z",
     "start_time": "2023-07-31T18:04:50.296556Z"
    }
   },
   "outputs": [],
   "source": [
    "df_raw = pd.read_csv('../datasets/train.csv')"
   ]
  },
  {
   "cell_type": "markdown",
   "id": "f96aace7",
   "metadata": {},
   "source": [
    "## 0.3. Helper functions"
   ]
  },
  {
   "cell_type": "code",
   "execution_count": 100,
   "id": "0b99ae46",
   "metadata": {
    "ExecuteTime": {
     "end_time": "2023-08-01T20:33:35.406486Z",
     "start_time": "2023-08-01T20:33:35.375966Z"
    }
   },
   "outputs": [],
   "source": [
    "# Padroniza o nome das colunas\n",
    "def rename_columns(cols):\n",
    "    cols = list(map(lambda x: inflection.titleize(x), cols))\n",
    "    cols = list(map(lambda x: x.replace(\" \", \"\"), cols))\n",
    "    cols = list(map(lambda x: inflection.underscore(x), cols))\n",
    "    return cols\n",
    "\n",
    "# Cria tabela com todas as informações desejadas de estatística descritiva numérica\n",
    "def num_descriptive_statistical(num_attributes):\n",
    "    num_desc_stat = df1.describe().T\n",
    "    num_desc_stat['range']    = pd.DataFrame(num_attributes.apply(lambda x: x.max() - x.min()))\n",
    "    num_desc_stat['skew']     = pd.DataFrame(num_attributes.apply(lambda x: x.skew()))\n",
    "    num_desc_stat['kurtosis'] = pd.DataFrame(num_attributes.apply(lambda x: x.kurtosis()))\n",
    "    return num_desc_stat\n",
    "\n",
    "# Fazer uma lista das categorias por feature\n",
    "def list_unique(cat_attributes):\n",
    "    tab_unique = pd.DataFrame(cat_attributes.nunique())\n",
    "    tab_unique.columns = ['#']\n",
    "    tab_unique['categories'] = pd.DataFrame(cat_attributes.apply(lambda x: x.unique()))\n",
    "    return tab_unique"
   ]
  },
  {
   "cell_type": "markdown",
   "id": "8324fb13",
   "metadata": {},
   "source": [
    "# 1. DATA DESCRIPTION"
   ]
  },
  {
   "cell_type": "code",
   "execution_count": 47,
   "id": "aef90067",
   "metadata": {
    "ExecuteTime": {
     "end_time": "2023-07-31T20:16:51.879342Z",
     "start_time": "2023-07-31T20:16:51.853166Z"
    }
   },
   "outputs": [],
   "source": [
    "df1 = df_raw.copy()"
   ]
  },
  {
   "cell_type": "markdown",
   "id": "36297542",
   "metadata": {},
   "source": [
    "## 1.1. Rename columns"
   ]
  },
  {
   "cell_type": "code",
   "execution_count": 48,
   "id": "781cc242",
   "metadata": {
    "ExecuteTime": {
     "end_time": "2023-07-31T20:16:53.797409Z",
     "start_time": "2023-07-31T20:16:53.776985Z"
    }
   },
   "outputs": [],
   "source": [
    "df1.columns = rename_columns(df1.columns)"
   ]
  },
  {
   "cell_type": "markdown",
   "id": "887578dc",
   "metadata": {},
   "source": [
    "## 1.2. Data dimension"
   ]
  },
  {
   "cell_type": "code",
   "execution_count": 45,
   "id": "316a9ebc",
   "metadata": {
    "ExecuteTime": {
     "end_time": "2023-07-31T20:12:13.278837Z",
     "start_time": "2023-07-31T20:12:13.267798Z"
    }
   },
   "outputs": [
    {
     "name": "stdout",
     "output_type": "stream",
     "text": [
      "Number of rows: 103,904\n",
      "Number of cols: 24\n"
     ]
    }
   ],
   "source": [
    "print('Number of rows: {:,}'.format(df1.shape[0]))\n",
    "print('Number of cols: {:,}'.format(df1.shape[1]))"
   ]
  },
  {
   "cell_type": "markdown",
   "id": "06ce7b70",
   "metadata": {},
   "source": [
    "## 1.3 Data Types"
   ]
  },
  {
   "cell_type": "code",
   "execution_count": 34,
   "id": "f3ee37e7",
   "metadata": {
    "ExecuteTime": {
     "end_time": "2023-07-31T20:07:00.469511Z",
     "start_time": "2023-07-31T20:07:00.404830Z"
    }
   },
   "outputs": [
    {
     "data": {
      "text/plain": [
       "id                              int64\n",
       "gender                         object\n",
       "customer_type                  object\n",
       "age                             int64\n",
       "type_of_purchase               object\n",
       "store_size                     object\n",
       "store_distance                  int64\n",
       "in_store_wifi                   int64\n",
       "open/close_time_convenient      int64\n",
       "easy_of_online_shopping         int64\n",
       "store_location                  int64\n",
       "toilet_cleaning                 int64\n",
       "dressing_room                   int64\n",
       "waiting_room                    int64\n",
       "kids_entertainment              int64\n",
       "seller_service                  int64\n",
       "showroom                        int64\n",
       "self_store                      int64\n",
       "purchase_service                int64\n",
       "store_service                   int64\n",
       "cleanliness                     int64\n",
       "carrier_delay_in_minutes        int64\n",
       "delivery_delay_in_minutes     float64\n",
       "satisfaction                   object\n",
       "dtype: object"
      ]
     },
     "execution_count": 34,
     "metadata": {},
     "output_type": "execute_result"
    }
   ],
   "source": [
    "df1.dtypes"
   ]
  },
  {
   "cell_type": "markdown",
   "id": "faea20a5",
   "metadata": {},
   "source": [
    "## 1.4 Check NA"
   ]
  },
  {
   "cell_type": "code",
   "execution_count": 49,
   "id": "230fba4b",
   "metadata": {
    "ExecuteTime": {
     "end_time": "2023-07-31T20:17:01.355404Z",
     "start_time": "2023-07-31T20:17:01.106091Z"
    }
   },
   "outputs": [
    {
     "data": {
      "text/plain": [
       "id                              0\n",
       "gender                          0\n",
       "customer_type                   0\n",
       "age                             0\n",
       "type_of_purchase                0\n",
       "store_size                      0\n",
       "store_distance                  0\n",
       "in_store_wifi                   0\n",
       "open/close_time_convenient      0\n",
       "easy_of_online_shopping         0\n",
       "store_location                  0\n",
       "toilet_cleaning                 0\n",
       "dressing_room                   0\n",
       "waiting_room                    0\n",
       "kids_entertainment              0\n",
       "seller_service                  0\n",
       "showroom                        0\n",
       "self_store                      0\n",
       "purchase_service                0\n",
       "store_service                   0\n",
       "cleanliness                     0\n",
       "carrier_delay_in_minutes        0\n",
       "delivery_delay_in_minutes     310\n",
       "satisfaction                    0\n",
       "dtype: int64"
      ]
     },
     "execution_count": 49,
     "metadata": {},
     "output_type": "execute_result"
    }
   ],
   "source": [
    "df1.isna().sum()"
   ]
  },
  {
   "cell_type": "markdown",
   "id": "7814b2b5",
   "metadata": {},
   "source": [
    "## 1.5. Fillout / Drop NA"
   ]
  },
  {
   "cell_type": "code",
   "execution_count": 50,
   "id": "ee72b010",
   "metadata": {
    "ExecuteTime": {
     "end_time": "2023-07-31T20:17:06.040473Z",
     "start_time": "2023-07-31T20:17:05.802232Z"
    }
   },
   "outputs": [],
   "source": [
    "# Remove NA's\n",
    "df1 = df1.dropna()\n",
    "\n",
    "# Redefine index\n",
    "df1 = df1.reset_index()"
   ]
  },
  {
   "cell_type": "code",
   "execution_count": 51,
   "id": "2695e9f6",
   "metadata": {
    "ExecuteTime": {
     "end_time": "2023-07-31T20:17:08.733241Z",
     "start_time": "2023-07-31T20:17:08.718469Z"
    }
   },
   "outputs": [
    {
     "data": {
      "text/plain": [
       "(103594, 25)"
      ]
     },
     "execution_count": 51,
     "metadata": {},
     "output_type": "execute_result"
    }
   ],
   "source": [
    "df1.shape"
   ]
  },
  {
   "cell_type": "markdown",
   "id": "2c2833c6",
   "metadata": {},
   "source": [
    "## 1.6. Change Types"
   ]
  },
  {
   "cell_type": "code",
   "execution_count": 53,
   "id": "7fde929a",
   "metadata": {
    "ExecuteTime": {
     "end_time": "2023-07-31T20:28:09.552128Z",
     "start_time": "2023-07-31T20:28:09.521956Z"
    }
   },
   "outputs": [
    {
     "data": {
      "text/plain": [
       "index                          int64\n",
       "id                             int64\n",
       "gender                        object\n",
       "customer_type                 object\n",
       "age                            int64\n",
       "type_of_purchase              object\n",
       "store_size                    object\n",
       "store_distance                 int64\n",
       "in_store_wifi                  int64\n",
       "open/close_time_convenient     int64\n",
       "easy_of_online_shopping        int64\n",
       "store_location                 int64\n",
       "toilet_cleaning                int64\n",
       "dressing_room                  int64\n",
       "waiting_room                   int64\n",
       "kids_entertainment             int64\n",
       "seller_service                 int64\n",
       "showroom                       int64\n",
       "self_store                     int64\n",
       "purchase_service               int64\n",
       "store_service                  int64\n",
       "cleanliness                    int64\n",
       "carrier_delay_in_minutes       int64\n",
       "delivery_delay_in_minutes      int32\n",
       "satisfaction                  object\n",
       "dtype: object"
      ]
     },
     "execution_count": 53,
     "metadata": {},
     "output_type": "execute_result"
    }
   ],
   "source": [
    "df1['delivery_delay_in_minutes'] = df1['delivery_delay_in_minutes'].astype(int)\n",
    "df1.dtypes"
   ]
  },
  {
   "cell_type": "markdown",
   "id": "26089b9a",
   "metadata": {},
   "source": [
    "## 1.7 Descriptive Statistical"
   ]
  },
  {
   "cell_type": "code",
   "execution_count": 57,
   "id": "01df060e",
   "metadata": {
    "ExecuteTime": {
     "end_time": "2023-07-31T20:49:36.710740Z",
     "start_time": "2023-07-31T20:49:36.649159Z"
    }
   },
   "outputs": [],
   "source": [
    "num_attributes = df1.select_dtypes(include= ['int64', 'int32', 'float64'])\n",
    "cat_attributes = df1.select_dtypes(exclude= ['int64', 'int32', 'float64'])"
   ]
  },
  {
   "cell_type": "markdown",
   "id": "85335a99",
   "metadata": {
    "ExecuteTime": {
     "end_time": "2023-07-31T20:50:00.285659Z",
     "start_time": "2023-07-31T20:50:00.269655Z"
    }
   },
   "source": [
    "### 1.7.1. Numerical attributes"
   ]
  },
  {
   "cell_type": "code",
   "execution_count": null,
   "id": "1535f936",
   "metadata": {},
   "outputs": [],
   "source": [
    "# Medidas de tendência central: Média e mediana\n",
    "# Medidas de dispersão: Max, min, range, desvio padrão, skewness(assimetria), kurtosis(achatamento)\n",
    "# Estatística de ordem (em relação a posição): quartis"
   ]
  },
  {
   "cell_type": "code",
   "execution_count": 77,
   "id": "be94ba7c",
   "metadata": {
    "ExecuteTime": {
     "end_time": "2023-08-01T02:06:20.637529Z",
     "start_time": "2023-08-01T02:06:20.077736Z"
    }
   },
   "outputs": [
    {
     "data": {
      "text/html": [
       "<div>\n",
       "<style scoped>\n",
       "    .dataframe tbody tr th:only-of-type {\n",
       "        vertical-align: middle;\n",
       "    }\n",
       "\n",
       "    .dataframe tbody tr th {\n",
       "        vertical-align: top;\n",
       "    }\n",
       "\n",
       "    .dataframe thead th {\n",
       "        text-align: right;\n",
       "    }\n",
       "</style>\n",
       "<table border=\"1\" class=\"dataframe\">\n",
       "  <thead>\n",
       "    <tr style=\"text-align: right;\">\n",
       "      <th></th>\n",
       "      <th>count</th>\n",
       "      <th>mean</th>\n",
       "      <th>std</th>\n",
       "      <th>min</th>\n",
       "      <th>25%</th>\n",
       "      <th>50%</th>\n",
       "      <th>75%</th>\n",
       "      <th>max</th>\n",
       "      <th>range</th>\n",
       "      <th>skew</th>\n",
       "      <th>kurtosis</th>\n",
       "    </tr>\n",
       "  </thead>\n",
       "  <tbody>\n",
       "    <tr>\n",
       "      <th>index</th>\n",
       "      <td>103594.0</td>\n",
       "      <td>51950.102274</td>\n",
       "      <td>29997.914016</td>\n",
       "      <td>0.0</td>\n",
       "      <td>25960.25</td>\n",
       "      <td>51955.5</td>\n",
       "      <td>77924.75</td>\n",
       "      <td>103903.0</td>\n",
       "      <td>103903</td>\n",
       "      <td>-0.000075</td>\n",
       "      <td>-1.200168</td>\n",
       "    </tr>\n",
       "    <tr>\n",
       "      <th>id</th>\n",
       "      <td>103594.0</td>\n",
       "      <td>64942.428625</td>\n",
       "      <td>37460.816597</td>\n",
       "      <td>1.0</td>\n",
       "      <td>32562.25</td>\n",
       "      <td>64890.0</td>\n",
       "      <td>97370.50</td>\n",
       "      <td>129880.0</td>\n",
       "      <td>129879</td>\n",
       "      <td>0.002057</td>\n",
       "      <td>-1.198112</td>\n",
       "    </tr>\n",
       "    <tr>\n",
       "      <th>age</th>\n",
       "      <td>103594.0</td>\n",
       "      <td>39.380466</td>\n",
       "      <td>15.113125</td>\n",
       "      <td>7.0</td>\n",
       "      <td>27.00</td>\n",
       "      <td>40.0</td>\n",
       "      <td>51.00</td>\n",
       "      <td>85.0</td>\n",
       "      <td>78</td>\n",
       "      <td>-0.004306</td>\n",
       "      <td>-0.719227</td>\n",
       "    </tr>\n",
       "    <tr>\n",
       "      <th>store_distance</th>\n",
       "      <td>103594.0</td>\n",
       "      <td>1189.325202</td>\n",
       "      <td>997.297235</td>\n",
       "      <td>31.0</td>\n",
       "      <td>414.00</td>\n",
       "      <td>842.0</td>\n",
       "      <td>1743.00</td>\n",
       "      <td>4983.0</td>\n",
       "      <td>4952</td>\n",
       "      <td>1.109886</td>\n",
       "      <td>0.269306</td>\n",
       "    </tr>\n",
       "    <tr>\n",
       "      <th>in_store_wifi</th>\n",
       "      <td>103594.0</td>\n",
       "      <td>2.729753</td>\n",
       "      <td>1.327866</td>\n",
       "      <td>0.0</td>\n",
       "      <td>2.00</td>\n",
       "      <td>3.0</td>\n",
       "      <td>4.00</td>\n",
       "      <td>5.0</td>\n",
       "      <td>5</td>\n",
       "      <td>0.040254</td>\n",
       "      <td>-0.846069</td>\n",
       "    </tr>\n",
       "    <tr>\n",
       "      <th>open/close_time_convenient</th>\n",
       "      <td>103594.0</td>\n",
       "      <td>3.060081</td>\n",
       "      <td>1.525233</td>\n",
       "      <td>0.0</td>\n",
       "      <td>2.00</td>\n",
       "      <td>3.0</td>\n",
       "      <td>4.00</td>\n",
       "      <td>5.0</td>\n",
       "      <td>5</td>\n",
       "      <td>-0.334391</td>\n",
       "      <td>-1.037919</td>\n",
       "    </tr>\n",
       "    <tr>\n",
       "      <th>easy_of_online_shopping</th>\n",
       "      <td>103594.0</td>\n",
       "      <td>2.756984</td>\n",
       "      <td>1.398934</td>\n",
       "      <td>0.0</td>\n",
       "      <td>2.00</td>\n",
       "      <td>3.0</td>\n",
       "      <td>4.00</td>\n",
       "      <td>5.0</td>\n",
       "      <td>5</td>\n",
       "      <td>-0.018138</td>\n",
       "      <td>-0.910294</td>\n",
       "    </tr>\n",
       "    <tr>\n",
       "      <th>store_location</th>\n",
       "      <td>103594.0</td>\n",
       "      <td>2.977026</td>\n",
       "      <td>1.277723</td>\n",
       "      <td>0.0</td>\n",
       "      <td>2.00</td>\n",
       "      <td>3.0</td>\n",
       "      <td>4.00</td>\n",
       "      <td>5.0</td>\n",
       "      <td>5</td>\n",
       "      <td>-0.058996</td>\n",
       "      <td>-1.030432</td>\n",
       "    </tr>\n",
       "    <tr>\n",
       "      <th>toilet_cleaning</th>\n",
       "      <td>103594.0</td>\n",
       "      <td>3.202126</td>\n",
       "      <td>1.329401</td>\n",
       "      <td>0.0</td>\n",
       "      <td>2.00</td>\n",
       "      <td>3.0</td>\n",
       "      <td>4.00</td>\n",
       "      <td>5.0</td>\n",
       "      <td>5</td>\n",
       "      <td>-0.151277</td>\n",
       "      <td>-1.145431</td>\n",
       "    </tr>\n",
       "    <tr>\n",
       "      <th>dressing_room</th>\n",
       "      <td>103594.0</td>\n",
       "      <td>3.250497</td>\n",
       "      <td>1.349433</td>\n",
       "      <td>0.0</td>\n",
       "      <td>2.00</td>\n",
       "      <td>3.0</td>\n",
       "      <td>4.00</td>\n",
       "      <td>5.0</td>\n",
       "      <td>5</td>\n",
       "      <td>-0.453957</td>\n",
       "      <td>-0.701729</td>\n",
       "    </tr>\n",
       "    <tr>\n",
       "      <th>waiting_room</th>\n",
       "      <td>103594.0</td>\n",
       "      <td>3.439765</td>\n",
       "      <td>1.318896</td>\n",
       "      <td>0.0</td>\n",
       "      <td>2.00</td>\n",
       "      <td>4.0</td>\n",
       "      <td>5.00</td>\n",
       "      <td>5.0</td>\n",
       "      <td>5</td>\n",
       "      <td>-0.483216</td>\n",
       "      <td>-0.924905</td>\n",
       "    </tr>\n",
       "    <tr>\n",
       "      <th>kids_entertainment</th>\n",
       "      <td>103594.0</td>\n",
       "      <td>3.358341</td>\n",
       "      <td>1.333030</td>\n",
       "      <td>0.0</td>\n",
       "      <td>2.00</td>\n",
       "      <td>4.0</td>\n",
       "      <td>4.00</td>\n",
       "      <td>5.0</td>\n",
       "      <td>5</td>\n",
       "      <td>-0.365345</td>\n",
       "      <td>-1.060583</td>\n",
       "    </tr>\n",
       "    <tr>\n",
       "      <th>seller_service</th>\n",
       "      <td>103594.0</td>\n",
       "      <td>3.382609</td>\n",
       "      <td>1.288284</td>\n",
       "      <td>0.0</td>\n",
       "      <td>2.00</td>\n",
       "      <td>4.0</td>\n",
       "      <td>4.00</td>\n",
       "      <td>5.0</td>\n",
       "      <td>5</td>\n",
       "      <td>-0.420211</td>\n",
       "      <td>-0.891979</td>\n",
       "    </tr>\n",
       "    <tr>\n",
       "      <th>showroom</th>\n",
       "      <td>103594.0</td>\n",
       "      <td>3.351401</td>\n",
       "      <td>1.315409</td>\n",
       "      <td>0.0</td>\n",
       "      <td>2.00</td>\n",
       "      <td>4.0</td>\n",
       "      <td>4.00</td>\n",
       "      <td>5.0</td>\n",
       "      <td>5</td>\n",
       "      <td>-0.350332</td>\n",
       "      <td>-0.979960</td>\n",
       "    </tr>\n",
       "    <tr>\n",
       "      <th>self_store</th>\n",
       "      <td>103594.0</td>\n",
       "      <td>3.631687</td>\n",
       "      <td>1.181051</td>\n",
       "      <td>1.0</td>\n",
       "      <td>3.00</td>\n",
       "      <td>4.0</td>\n",
       "      <td>5.00</td>\n",
       "      <td>5.0</td>\n",
       "      <td>4</td>\n",
       "      <td>-0.677173</td>\n",
       "      <td>-0.387175</td>\n",
       "    </tr>\n",
       "    <tr>\n",
       "      <th>purchase_service</th>\n",
       "      <td>103594.0</td>\n",
       "      <td>3.304323</td>\n",
       "      <td>1.265396</td>\n",
       "      <td>0.0</td>\n",
       "      <td>3.00</td>\n",
       "      <td>3.0</td>\n",
       "      <td>4.00</td>\n",
       "      <td>5.0</td>\n",
       "      <td>5</td>\n",
       "      <td>-0.365103</td>\n",
       "      <td>-0.828838</td>\n",
       "    </tr>\n",
       "    <tr>\n",
       "      <th>store_service</th>\n",
       "      <td>103594.0</td>\n",
       "      <td>3.640761</td>\n",
       "      <td>1.175603</td>\n",
       "      <td>0.0</td>\n",
       "      <td>3.00</td>\n",
       "      <td>4.0</td>\n",
       "      <td>5.00</td>\n",
       "      <td>5.0</td>\n",
       "      <td>5</td>\n",
       "      <td>-0.690947</td>\n",
       "      <td>-0.356374</td>\n",
       "    </tr>\n",
       "    <tr>\n",
       "      <th>cleanliness</th>\n",
       "      <td>103594.0</td>\n",
       "      <td>3.286397</td>\n",
       "      <td>1.312194</td>\n",
       "      <td>0.0</td>\n",
       "      <td>2.00</td>\n",
       "      <td>3.0</td>\n",
       "      <td>4.00</td>\n",
       "      <td>5.0</td>\n",
       "      <td>5</td>\n",
       "      <td>-0.300144</td>\n",
       "      <td>-1.012313</td>\n",
       "    </tr>\n",
       "    <tr>\n",
       "      <th>carrier_delay_in_minutes</th>\n",
       "      <td>103594.0</td>\n",
       "      <td>14.747939</td>\n",
       "      <td>38.116737</td>\n",
       "      <td>0.0</td>\n",
       "      <td>0.00</td>\n",
       "      <td>0.0</td>\n",
       "      <td>12.00</td>\n",
       "      <td>1592.0</td>\n",
       "      <td>1592</td>\n",
       "      <td>6.769049</td>\n",
       "      <td>101.466714</td>\n",
       "    </tr>\n",
       "    <tr>\n",
       "      <th>delivery_delay_in_minutes</th>\n",
       "      <td>103594.0</td>\n",
       "      <td>15.178678</td>\n",
       "      <td>38.698682</td>\n",
       "      <td>0.0</td>\n",
       "      <td>0.00</td>\n",
       "      <td>0.0</td>\n",
       "      <td>13.00</td>\n",
       "      <td>1584.0</td>\n",
       "      <td>1584</td>\n",
       "      <td>6.596637</td>\n",
       "      <td>94.537006</td>\n",
       "    </tr>\n",
       "  </tbody>\n",
       "</table>\n",
       "</div>"
      ],
      "text/plain": [
       "                               count          mean           std   min  \\\n",
       "index                       103594.0  51950.102274  29997.914016   0.0   \n",
       "id                          103594.0  64942.428625  37460.816597   1.0   \n",
       "age                         103594.0     39.380466     15.113125   7.0   \n",
       "store_distance              103594.0   1189.325202    997.297235  31.0   \n",
       "in_store_wifi               103594.0      2.729753      1.327866   0.0   \n",
       "open/close_time_convenient  103594.0      3.060081      1.525233   0.0   \n",
       "easy_of_online_shopping     103594.0      2.756984      1.398934   0.0   \n",
       "store_location              103594.0      2.977026      1.277723   0.0   \n",
       "toilet_cleaning             103594.0      3.202126      1.329401   0.0   \n",
       "dressing_room               103594.0      3.250497      1.349433   0.0   \n",
       "waiting_room                103594.0      3.439765      1.318896   0.0   \n",
       "kids_entertainment          103594.0      3.358341      1.333030   0.0   \n",
       "seller_service              103594.0      3.382609      1.288284   0.0   \n",
       "showroom                    103594.0      3.351401      1.315409   0.0   \n",
       "self_store                  103594.0      3.631687      1.181051   1.0   \n",
       "purchase_service            103594.0      3.304323      1.265396   0.0   \n",
       "store_service               103594.0      3.640761      1.175603   0.0   \n",
       "cleanliness                 103594.0      3.286397      1.312194   0.0   \n",
       "carrier_delay_in_minutes    103594.0     14.747939     38.116737   0.0   \n",
       "delivery_delay_in_minutes   103594.0     15.178678     38.698682   0.0   \n",
       "\n",
       "                                 25%      50%       75%       max   range  \\\n",
       "index                       25960.25  51955.5  77924.75  103903.0  103903   \n",
       "id                          32562.25  64890.0  97370.50  129880.0  129879   \n",
       "age                            27.00     40.0     51.00      85.0      78   \n",
       "store_distance                414.00    842.0   1743.00    4983.0    4952   \n",
       "in_store_wifi                   2.00      3.0      4.00       5.0       5   \n",
       "open/close_time_convenient      2.00      3.0      4.00       5.0       5   \n",
       "easy_of_online_shopping         2.00      3.0      4.00       5.0       5   \n",
       "store_location                  2.00      3.0      4.00       5.0       5   \n",
       "toilet_cleaning                 2.00      3.0      4.00       5.0       5   \n",
       "dressing_room                   2.00      3.0      4.00       5.0       5   \n",
       "waiting_room                    2.00      4.0      5.00       5.0       5   \n",
       "kids_entertainment              2.00      4.0      4.00       5.0       5   \n",
       "seller_service                  2.00      4.0      4.00       5.0       5   \n",
       "showroom                        2.00      4.0      4.00       5.0       5   \n",
       "self_store                      3.00      4.0      5.00       5.0       4   \n",
       "purchase_service                3.00      3.0      4.00       5.0       5   \n",
       "store_service                   3.00      4.0      5.00       5.0       5   \n",
       "cleanliness                     2.00      3.0      4.00       5.0       5   \n",
       "carrier_delay_in_minutes        0.00      0.0     12.00    1592.0    1592   \n",
       "delivery_delay_in_minutes       0.00      0.0     13.00    1584.0    1584   \n",
       "\n",
       "                                skew    kurtosis  \n",
       "index                      -0.000075   -1.200168  \n",
       "id                          0.002057   -1.198112  \n",
       "age                        -0.004306   -0.719227  \n",
       "store_distance              1.109886    0.269306  \n",
       "in_store_wifi               0.040254   -0.846069  \n",
       "open/close_time_convenient -0.334391   -1.037919  \n",
       "easy_of_online_shopping    -0.018138   -0.910294  \n",
       "store_location             -0.058996   -1.030432  \n",
       "toilet_cleaning            -0.151277   -1.145431  \n",
       "dressing_room              -0.453957   -0.701729  \n",
       "waiting_room               -0.483216   -0.924905  \n",
       "kids_entertainment         -0.365345   -1.060583  \n",
       "seller_service             -0.420211   -0.891979  \n",
       "showroom                   -0.350332   -0.979960  \n",
       "self_store                 -0.677173   -0.387175  \n",
       "purchase_service           -0.365103   -0.828838  \n",
       "store_service              -0.690947   -0.356374  \n",
       "cleanliness                -0.300144   -1.012313  \n",
       "carrier_delay_in_minutes    6.769049  101.466714  \n",
       "delivery_delay_in_minutes   6.596637   94.537006  "
      ]
     },
     "execution_count": 77,
     "metadata": {},
     "output_type": "execute_result"
    }
   ],
   "source": [
    "# Medidas de tendência central, dispersão e de ordem\n",
    "num_descriptive_statistical(num_attributes)"
   ]
  },
  {
   "cell_type": "markdown",
   "id": "ea45a638",
   "metadata": {},
   "source": [
    "### 1.7.2. Categorical attributes"
   ]
  },
  {
   "cell_type": "code",
   "execution_count": null,
   "id": "9ab3c80b",
   "metadata": {},
   "outputs": [],
   "source": [
    "# Quantidade de únicos por feature\n",
    "# Frequência e porporção\n",
    "# Tabela de contingência\n",
    "# Gráficos"
   ]
  },
  {
   "cell_type": "code",
   "execution_count": 89,
   "id": "7aed1b86",
   "metadata": {
    "ExecuteTime": {
     "end_time": "2023-08-01T20:20:45.430424Z",
     "start_time": "2023-08-01T20:20:45.324906Z"
    }
   },
   "outputs": [
    {
     "data": {
      "text/plain": [
       "gender              2\n",
       "customer_type       2\n",
       "type_of_purchase    2\n",
       "store_size          3\n",
       "satisfaction        2\n",
       "dtype: int64"
      ]
     },
     "execution_count": 89,
     "metadata": {},
     "output_type": "execute_result"
    }
   ],
   "source": [
    "# Quantidade de únicos por feature\n",
    "cat_attributes.nunique()"
   ]
  },
  {
   "cell_type": "code",
   "execution_count": 102,
   "id": "88a847ee",
   "metadata": {
    "ExecuteTime": {
     "end_time": "2023-08-01T20:43:31.173768Z",
     "start_time": "2023-08-01T20:43:30.996719Z"
    }
   },
   "outputs": [
    {
     "data": {
      "text/html": [
       "<div>\n",
       "<style scoped>\n",
       "    .dataframe tbody tr th:only-of-type {\n",
       "        vertical-align: middle;\n",
       "    }\n",
       "\n",
       "    .dataframe tbody tr th {\n",
       "        vertical-align: top;\n",
       "    }\n",
       "\n",
       "    .dataframe thead th {\n",
       "        text-align: right;\n",
       "    }\n",
       "</style>\n",
       "<table border=\"1\" class=\"dataframe\">\n",
       "  <thead>\n",
       "    <tr style=\"text-align: right;\">\n",
       "      <th></th>\n",
       "      <th>#</th>\n",
       "      <th>categories</th>\n",
       "    </tr>\n",
       "  </thead>\n",
       "  <tbody>\n",
       "    <tr>\n",
       "      <th>gender</th>\n",
       "      <td>2</td>\n",
       "      <td>[Male, Female]</td>\n",
       "    </tr>\n",
       "    <tr>\n",
       "      <th>customer_type</th>\n",
       "      <td>2</td>\n",
       "      <td>[Loyal Customer, disloyal Customer]</td>\n",
       "    </tr>\n",
       "    <tr>\n",
       "      <th>type_of_purchase</th>\n",
       "      <td>2</td>\n",
       "      <td>[Personal, Gift]</td>\n",
       "    </tr>\n",
       "    <tr>\n",
       "      <th>store_size</th>\n",
       "      <td>3</td>\n",
       "      <td>[Small, Large, Medium]</td>\n",
       "    </tr>\n",
       "    <tr>\n",
       "      <th>satisfaction</th>\n",
       "      <td>2</td>\n",
       "      <td>[Neutral or Dissatisfaction, Satisfied]</td>\n",
       "    </tr>\n",
       "  </tbody>\n",
       "</table>\n",
       "</div>"
      ],
      "text/plain": [
       "                  #                               categories\n",
       "gender            2                           [Male, Female]\n",
       "customer_type     2      [Loyal Customer, disloyal Customer]\n",
       "type_of_purchase  2                         [Personal, Gift]\n",
       "store_size        3                   [Small, Large, Medium]\n",
       "satisfaction      2  [Neutral or Dissatisfaction, Satisfied]"
      ]
     },
     "execution_count": 102,
     "metadata": {},
     "output_type": "execute_result"
    }
   ],
   "source": [
    "# Fazer uma lista das categorias por feature\n",
    "list_unique(cat_attributes)"
   ]
  },
  {
   "cell_type": "markdown",
   "id": "a82f5aac",
   "metadata": {},
   "source": [
    "# 2. Feature engineering"
   ]
  },
  {
   "cell_type": "code",
   "execution_count": 81,
   "id": "f75d9e4d",
   "metadata": {
    "ExecuteTime": {
     "end_time": "2023-08-01T18:28:32.770283Z",
     "start_time": "2023-08-01T18:28:32.682742Z"
    }
   },
   "outputs": [],
   "source": [
    "df2 = df1.copy()"
   ]
  },
  {
   "cell_type": "code",
   "execution_count": null,
   "id": "b0a2a64d",
   "metadata": {},
   "outputs": [],
   "source": [
    "# Pular por hora"
   ]
  },
  {
   "cell_type": "markdown",
   "id": "ca3c4184",
   "metadata": {},
   "source": [
    "# 3. Filtragem de variáveis"
   ]
  },
  {
   "cell_type": "markdown",
   "id": "6a4be913",
   "metadata": {},
   "source": [
    "Conforme dito anteriormente, o projeto será iniciado com enfoque na perspectiva do time de customer experience.\n",
    "\n",
    "Os passos mais importantes para o time de CX são:\n",
    "- Entender o que faz os clientes se sentirem insatisfeitos;\n",
    "- Encontrar um bom plano de MVP.\n",
    "\n",
    "Para isso, vamos separar os tipos de clientes e entender melhor o que eles têm em comum."
   ]
  },
  {
   "cell_type": "code",
   "execution_count": 82,
   "id": "b3e6ea0d",
   "metadata": {
    "ExecuteTime": {
     "end_time": "2023-08-01T18:28:41.848371Z",
     "start_time": "2023-08-01T18:28:41.816850Z"
    }
   },
   "outputs": [],
   "source": [
    "df3 = df2.copy()"
   ]
  },
  {
   "cell_type": "code",
   "execution_count": 114,
   "id": "4882a2c6",
   "metadata": {
    "ExecuteTime": {
     "end_time": "2023-08-01T21:00:18.492964Z",
     "start_time": "2023-08-01T21:00:18.400572Z"
    }
   },
   "outputs": [
    {
     "data": {
      "text/plain": [
       "array(['Neutral or Dissatisfaction'], dtype=object)"
      ]
     },
     "execution_count": 114,
     "metadata": {},
     "output_type": "execute_result"
    }
   ],
   "source": [
    "# Separar os clientes em satisfeitos e insatisfeitos\n",
    "df_dissatisfaction = df3.loc[df3['satisfaction'] == 'Neutral or Dissatisfaction', :]\n",
    "df_dissatisfaction"
   ]
  },
  {
   "cell_type": "markdown",
   "id": "73739a4f",
   "metadata": {},
   "source": [
    "# 4. Exploratory data analysis"
   ]
  },
  {
   "cell_type": "code",
   "execution_count": 115,
   "id": "b99f4d76",
   "metadata": {
    "ExecuteTime": {
     "end_time": "2023-08-01T21:13:56.752633Z",
     "start_time": "2023-08-01T21:13:56.727110Z"
    }
   },
   "outputs": [],
   "source": [
    "df4 = df_dissatisfaction.copy()"
   ]
  }
 ],
 "metadata": {
  "kernelspec": {
   "display_name": "Python 3 (ipykernel)",
   "language": "python",
   "name": "python3"
  },
  "language_info": {
   "codemirror_mode": {
    "name": "ipython",
    "version": 3
   },
   "file_extension": ".py",
   "mimetype": "text/x-python",
   "name": "python",
   "nbconvert_exporter": "python",
   "pygments_lexer": "ipython3",
   "version": "3.8.16"
  }
 },
 "nbformat": 4,
 "nbformat_minor": 5
}
