{
 "cells": [
  {
   "cell_type": "markdown",
   "id": "203e62de",
   "metadata": {},
   "source": [
    "# I. Business understanting"
   ]
  },
  {
   "cell_type": "markdown",
   "id": "6a3d1f8d",
   "metadata": {},
   "source": [
    "## I.1. Avaliar a situação"
   ]
  },
  {
   "cell_type": "markdown",
   "id": "96592048",
   "metadata": {},
   "source": [
    "**1. Descrição do problema de negócio**\n",
    "\n",
    "A InStyle é uma das maiores lojas de roupas dos Estados Unidos que passa por problemas de customer experience ou experiência do cliente.\n",
    "    \n",
    "O grande desafio de escalar o faturamento de uma loja é manter a qualidade do produto e a taxa de satisfação do cliente em alta.\n",
    "    \n",
    "À medida que a empresa alcance mais clientes, os processos internos de vendas que começa com a concepção do produto, passam pela divulgação do marketing e chegam até os sistemas de pagamento do financeiro começam a apresentar problemas.\n",
    "    \n",
    "O time de produtos tem dificuldade em determinar a necessidade da maioria dos clientes. O time de marketing enfrente desafios para determinar o cliente ideal e o time de desenvolvimento sofre com os grandes volumes de acessos no site e em seu aplicativo, causando quedas de sistema e tornando o site inoperante por algumas horas, impedindo as pessoas de comprar e assim, gerando muitas reclamações no atendimento, liderado pelo time de customer experience.\n",
    "    \n",
    "Portanto, a medição da satisfação dos clientes é extremamente importante para a empresa manter a boa reputação no mercado.\n",
    "\n",
    "**2. Contexto do problema**\n",
    "    \n",
    "A empresa é uma das maiores lojas de roupas dos Estados Unidos e está experimentando um notável crescimento e esta escalada traz consigo desafios para manter a qualidade do produto e a satisfação do cliente em níveis elevados.\n",
    "\n",
    "**3. Identificar o ponto verdadeiro ponto focal / público alvo**\n",
    "    \n",
    "O time de customer experience desempenha um papel crucial como guardião da boa reputação da empresa, sendo responsável por monitorar métricas de desempenho relacionadas à satisfação do cliente. Diante disso, o projeto será iniciado com um enfoque voltado à perspectiva dessa equipe."
   ]
  },
  {
   "cell_type": "markdown",
   "id": "7418635e",
   "metadata": {},
   "source": [
    "## I.2. Determinar o objetivo do negócio"
   ]
  },
  {
   "cell_type": "markdown",
   "id": "1b398b2b",
   "metadata": {},
   "source": [
    "**1. Por que é importante para o negócio?**\n",
    "\n",
    "A medição da satisfação dos clientes é extremamente importante para a empresa na totalidade. Pois, permite entender as necessidades dos clientes, suas expectativas e desafios internos para fornecer soluções que atendam às suas demandas.\n",
    "\n",
    "**2. Quais são as dores / desafio / problema atual?**\n",
    "\n",
    "O time de produtos tem dificuldade em determinar a necessidade da maioria dos clientes. O time de marketing enfrente desafios para determinar o cliente ideal e o time de desenvolvimento sofre com os grandes volumes de acessos no site e em seu aplicativo, causando quedas de sistema e tornando o site inoperante por algumas horas, impedindo as pessoas de comprar e assim, gerando muitas reclamações no atendimento, liderado pelo time de customer experience.\n",
    "\n",
    "**3. Quais são os resultados esperados? Quais as principais consequências esperadas?**\n",
    "\n",
    "O objetivo principal do projeto é **desenvolver um algoritmo de previsão de satisfação do cliente e fornecer informações valiosas ao time de customer experience**, permitindo-lhes analisar e compreender como a empresa pode aprimorar seus produtos, serviços e processos internos. \n",
    "\n",
    "Os próximos passos são: priorizar as melhorias e acompanhar os demais times em suas respectivas necessidades."
   ]
  },
  {
   "cell_type": "markdown",
   "id": "497faf0a",
   "metadata": {},
   "source": [
    "## I.3. Produzir o plano do projeto"
   ]
  },
  {
   "cell_type": "markdown",
   "id": "24a77e38",
   "metadata": {},
   "source": [
    "**1. Saída**\n",
    "\n",
    "Algoritmo de previsão de satisfação do cliente e possíveis insigths.\n",
    "\n",
    "**2. Processo**\n",
    "\n",
    "- Utilizar o framework CRISP-DM como passso a passo.\n",
    "- Tabela de satisfação dos clientes;\n",
    "- Gráficos de visualização.\n",
    "\n",
    "**3. Entrada**\n",
    "\n",
    "- Fonte de dados: [kaggle](https://www.kaggle.com/competitions/instyle-nps/data);\n",
    "- Ferramentas: Jupyter."
   ]
  },
  {
   "cell_type": "markdown",
   "id": "396c9dfa",
   "metadata": {},
   "source": [
    "## I.4. Determinar o objetivo da mineração"
   ]
  },
  {
   "cell_type": "markdown",
   "id": "7166e8da",
   "metadata": {},
   "source": [
    "**Descrever os cenários**\n",
    "\n",
    "**Cenário 1: Classificação de clientes em satisfeito ou insatisfeito**\n",
    "\n",
    "* Dado que o time de Customer Experience possui uma planilha com dados de clientes\n",
    "* Quando o algoritmo de previsão é executado para classificar os clientes em \"Satisfeito\" ou \"Insatisfeito”\n",
    "* Então o algoritmo deve atribuir o status de satisfação a cada cliente com **maior precisão**\n",
    "\n",
    "**Cenário 2: Análise das principais razões de insatisfação**\n",
    "    \n",
    "* Dado que o algoritmo identificou os clientes classificados como \"Insatisfeito”\n",
    "* Quando analisamos os principais motivos de insatisfação\n",
    "* Então deve obter insights sobre os problemas mais recorrentes enfrentados pelos clientes"
   ]
  },
  {
   "cell_type": "markdown",
   "id": "27756830",
   "metadata": {},
   "source": [
    "# 0. IMPORTS"
   ]
  },
  {
   "cell_type": "markdown",
   "id": "9fa8d0e4",
   "metadata": {},
   "source": [
    "## 0.1. Importing libraries"
   ]
  },
  {
   "cell_type": "code",
   "execution_count": 27,
   "id": "6d812a74",
   "metadata": {
    "ExecuteTime": {
     "end_time": "2023-07-31T18:35:46.843670Z",
     "start_time": "2023-07-31T18:35:46.819829Z"
    }
   },
   "outputs": [],
   "source": [
    "import pandas as pd\n",
    "import inflection"
   ]
  },
  {
   "cell_type": "markdown",
   "id": "0e861689",
   "metadata": {},
   "source": [
    "## 0.2. Loading data"
   ]
  },
  {
   "cell_type": "code",
   "execution_count": 24,
   "id": "28323303",
   "metadata": {
    "ExecuteTime": {
     "end_time": "2023-07-31T18:04:51.016442Z",
     "start_time": "2023-07-31T18:04:50.296556Z"
    }
   },
   "outputs": [],
   "source": [
    "df_raw = pd.read_csv('../datasets/train.csv')"
   ]
  },
  {
   "cell_type": "markdown",
   "id": "e9cdb9c5",
   "metadata": {},
   "source": [
    "## 0.3. Helper functions"
   ]
  },
  {
   "cell_type": "code",
   "execution_count": 42,
   "id": "4193b73f",
   "metadata": {
    "ExecuteTime": {
     "end_time": "2023-07-31T20:11:55.181682Z",
     "start_time": "2023-07-31T20:11:55.147346Z"
    }
   },
   "outputs": [],
   "source": [
    "# Function Rename columns\n",
    "def rename_columns(cols):\n",
    "    cols = list(map(lambda x: inflection.titleize(x), cols))\n",
    "    cols = list(map(lambda x: x.replace(\" \", \"\"), cols))\n",
    "    cols = list(map(lambda x: inflection.underscore(x), cols))\n",
    "    return cols"
   ]
  },
  {
   "cell_type": "markdown",
   "id": "cacdf7cc",
   "metadata": {},
   "source": [
    "# 1. DATA DESCRIPTION"
   ]
  },
  {
   "cell_type": "code",
   "execution_count": 47,
   "id": "1817456d",
   "metadata": {
    "ExecuteTime": {
     "end_time": "2023-07-31T20:16:51.879342Z",
     "start_time": "2023-07-31T20:16:51.853166Z"
    }
   },
   "outputs": [],
   "source": [
    "df1 = df_raw.copy()"
   ]
  },
  {
   "cell_type": "markdown",
   "id": "fca64491",
   "metadata": {},
   "source": [
    "## 1.1. Rename columns"
   ]
  },
  {
   "cell_type": "code",
   "execution_count": 48,
   "id": "b9490bf9",
   "metadata": {
    "ExecuteTime": {
     "end_time": "2023-07-31T20:16:53.797409Z",
     "start_time": "2023-07-31T20:16:53.776985Z"
    }
   },
   "outputs": [],
   "source": [
    "df1.columns = rename_columns(df1.columns)"
   ]
  },
  {
   "cell_type": "markdown",
   "id": "9180fc27",
   "metadata": {},
   "source": [
    "## 1.2. Data dimension"
   ]
  },
  {
   "cell_type": "code",
   "execution_count": 45,
   "id": "4de89728",
   "metadata": {
    "ExecuteTime": {
     "end_time": "2023-07-31T20:12:13.278837Z",
     "start_time": "2023-07-31T20:12:13.267798Z"
    }
   },
   "outputs": [
    {
     "name": "stdout",
     "output_type": "stream",
     "text": [
      "Number of rows: 103,904\n",
      "Number of cols: 24\n"
     ]
    }
   ],
   "source": [
    "print('Number of rows: {:,}'.format(df1.shape[0]))\n",
    "print('Number of cols: {:,}'.format(df1.shape[1]))"
   ]
  },
  {
   "cell_type": "markdown",
   "id": "aaa6be73",
   "metadata": {},
   "source": [
    "## 1.3 Data Types"
   ]
  },
  {
   "cell_type": "code",
   "execution_count": 34,
   "id": "de28d126",
   "metadata": {
    "ExecuteTime": {
     "end_time": "2023-07-31T20:07:00.469511Z",
     "start_time": "2023-07-31T20:07:00.404830Z"
    }
   },
   "outputs": [
    {
     "data": {
      "text/plain": [
       "id                              int64\n",
       "gender                         object\n",
       "customer_type                  object\n",
       "age                             int64\n",
       "type_of_purchase               object\n",
       "store_size                     object\n",
       "store_distance                  int64\n",
       "in_store_wifi                   int64\n",
       "open/close_time_convenient      int64\n",
       "easy_of_online_shopping         int64\n",
       "store_location                  int64\n",
       "toilet_cleaning                 int64\n",
       "dressing_room                   int64\n",
       "waiting_room                    int64\n",
       "kids_entertainment              int64\n",
       "seller_service                  int64\n",
       "showroom                        int64\n",
       "self_store                      int64\n",
       "purchase_service                int64\n",
       "store_service                   int64\n",
       "cleanliness                     int64\n",
       "carrier_delay_in_minutes        int64\n",
       "delivery_delay_in_minutes     float64\n",
       "satisfaction                   object\n",
       "dtype: object"
      ]
     },
     "execution_count": 34,
     "metadata": {},
     "output_type": "execute_result"
    }
   ],
   "source": [
    "df1.dtypes"
   ]
  },
  {
   "cell_type": "markdown",
   "id": "83d03c8f",
   "metadata": {},
   "source": [
    "## 1.4 Check NA's"
   ]
  },
  {
   "cell_type": "code",
   "execution_count": 49,
   "id": "0bc64101",
   "metadata": {
    "ExecuteTime": {
     "end_time": "2023-07-31T20:17:01.355404Z",
     "start_time": "2023-07-31T20:17:01.106091Z"
    }
   },
   "outputs": [
    {
     "data": {
      "text/plain": [
       "id                              0\n",
       "gender                          0\n",
       "customer_type                   0\n",
       "age                             0\n",
       "type_of_purchase                0\n",
       "store_size                      0\n",
       "store_distance                  0\n",
       "in_store_wifi                   0\n",
       "open/close_time_convenient      0\n",
       "easy_of_online_shopping         0\n",
       "store_location                  0\n",
       "toilet_cleaning                 0\n",
       "dressing_room                   0\n",
       "waiting_room                    0\n",
       "kids_entertainment              0\n",
       "seller_service                  0\n",
       "showroom                        0\n",
       "self_store                      0\n",
       "purchase_service                0\n",
       "store_service                   0\n",
       "cleanliness                     0\n",
       "carrier_delay_in_minutes        0\n",
       "delivery_delay_in_minutes     310\n",
       "satisfaction                    0\n",
       "dtype: int64"
      ]
     },
     "execution_count": 49,
     "metadata": {},
     "output_type": "execute_result"
    }
   ],
   "source": [
    "df1.isna().sum()"
   ]
  },
  {
   "cell_type": "markdown",
   "id": "d886ca39",
   "metadata": {},
   "source": [
    "## 1.5. Fillout / Drop NA's"
   ]
  },
  {
   "cell_type": "code",
   "execution_count": 50,
   "id": "4bf64e05",
   "metadata": {
    "ExecuteTime": {
     "end_time": "2023-07-31T20:17:06.040473Z",
     "start_time": "2023-07-31T20:17:05.802232Z"
    }
   },
   "outputs": [],
   "source": [
    "# Remove NA's\n",
    "df1 = df1.dropna()\n",
    "\n",
    "# Redefine index\n",
    "df1 = df1.reset_index()"
   ]
  },
  {
   "cell_type": "code",
   "execution_count": 51,
   "id": "b67c4897",
   "metadata": {
    "ExecuteTime": {
     "end_time": "2023-07-31T20:17:08.733241Z",
     "start_time": "2023-07-31T20:17:08.718469Z"
    }
   },
   "outputs": [
    {
     "data": {
      "text/plain": [
       "(103594, 25)"
      ]
     },
     "execution_count": 51,
     "metadata": {},
     "output_type": "execute_result"
    }
   ],
   "source": [
    "df1.shape"
   ]
  }
 ],
 "metadata": {
  "kernelspec": {
   "display_name": "Python 3 (ipykernel)",
   "language": "python",
   "name": "python3"
  },
  "language_info": {
   "codemirror_mode": {
    "name": "ipython",
    "version": 3
   },
   "file_extension": ".py",
   "mimetype": "text/x-python",
   "name": "python",
   "nbconvert_exporter": "python",
   "pygments_lexer": "ipython3",
   "version": "3.8.16"
  }
 },
 "nbformat": 4,
 "nbformat_minor": 5
}
