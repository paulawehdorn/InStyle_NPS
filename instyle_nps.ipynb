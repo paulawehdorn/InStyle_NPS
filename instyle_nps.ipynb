{
 "cells": [
  {
   "cell_type": "markdown",
   "id": "a91c1b75",
   "metadata": {},
   "source": [
    "# I. Business understanting"
   ]
  },
  {
   "cell_type": "markdown",
   "id": "30eabb12",
   "metadata": {},
   "source": [
    "## I.1. Avaliar a situação"
   ]
  },
  {
   "cell_type": "markdown",
   "id": "8d094bc2",
   "metadata": {},
   "source": [
    "**1. Descrição do problema de negócio**\n",
    "\n",
    "A InStyle é uma das maiores lojas de roupas dos Estados Unidos que passa por problemas de customer experience ou experiência do cliente.\n",
    "    \n",
    "O grande desafio de escalar o faturamento de uma loja é manter a qualidade do produto e a taxa de satisfação do cliente em alta.\n",
    "    \n",
    "À medida que a empresa alcance mais clientes, os processos internos de vendas que começa com a concepção do produto, passam pela divulgação do marketing e chegam até os sistemas de pagamento do financeiro começam a apresentar problemas.\n",
    "    \n",
    "O time de produtos tem dificuldade em determinar a necessidade da maioria dos clientes. O time de marketing enfrente desafios para determinar o cliente ideal e o time de desenvolvimento sofre com os grandes volumes de acessos no site e em seu aplicativo, causando quedas de sistema e tornando o site inoperante por algumas horas, impedindo as pessoas de comprar e assim, gerando muitas reclamações no atendimento, liderado pelo time de customer experience.\n",
    "    \n",
    "Portanto, a medição da satisfação dos clientes é extremamente importante para a empresa manter a boa reputação no mercado.\n",
    "\n",
    "**2. Contexto do problema**\n",
    "    \n",
    "A empresa é uma das maiores lojas de roupas dos Estados Unidos e está experimentando um notável crescimento e esta escalada traz consigo desafios para manter a qualidade do produto e a satisfação do cliente em níveis elevados.\n",
    "\n",
    "**3. Identificar o ponto verdadeiro ponto focal / público alvo**\n",
    "    \n",
    "O time de customer experience desempenha um papel crucial como guardião da boa reputação da empresa, sendo responsável por monitorar métricas de desempenho relacionadas à satisfação do cliente. Diante disso, o projeto será iniciado com um enfoque voltado à perspectiva dessa equipe."
   ]
  },
  {
   "cell_type": "markdown",
   "id": "5be511ba",
   "metadata": {},
   "source": [
    "## I.2. Determinar o objetivo do negócio"
   ]
  },
  {
   "cell_type": "markdown",
   "id": "78948218",
   "metadata": {},
   "source": [
    "**1. Por que é importante para o negócio?**\n",
    "\n",
    "A medição da satisfação dos clientes é extremamente importante para a empresa na totalidade. Pois, permite entender as necessidades dos clientes, suas expectativas e desafios internos para fornecer soluções que atendam às suas demandas.\n",
    "\n",
    "**2. Quais são as dores / desafio / problema atual?**\n",
    "\n",
    "O time de produtos tem dificuldade em determinar a necessidade da maioria dos clientes. O time de marketing enfrente desafios para determinar o cliente ideal e o time de desenvolvimento sofre com os grandes volumes de acessos no site e em seu aplicativo, causando quedas de sistema e tornando o site inoperante por algumas horas, impedindo as pessoas de comprar e assim, gerando muitas reclamações no atendimento, liderado pelo time de customer experience.\n",
    "\n",
    "**3. Quais são os resultados esperados? Quais as principais consequências esperadas?**\n",
    "\n",
    "O objetivo principal do projeto é **desenvolver um algoritmo de previsão de satisfação do cliente e fornecer informações valiosas ao time de customer experience**, permitindo-lhes analisar e compreender como a empresa pode aprimorar seus produtos, serviços e processos internos. \n",
    "\n",
    "Os próximos passos são: priorizar as melhorias e acompanhar os demais times em suas respectivas necessidades."
   ]
  },
  {
   "cell_type": "markdown",
   "id": "b5b6d07e",
   "metadata": {},
   "source": [
    "## I.3. Produzir o plano do projeto"
   ]
  },
  {
   "cell_type": "markdown",
   "id": "276decee",
   "metadata": {},
   "source": [
    "**1. Saída**\n",
    "\n",
    "Algoritmo de previsão de satisfação do cliente e possíveis insigths.\n",
    "\n",
    "**2. Processo**\n",
    "\n",
    "- Utilizar o framework CRISP-DM como passso a passo.\n",
    "- Tabela de satisfação dos clientes;\n",
    "- Gráficos de visualização.\n",
    "\n",
    "**3. Entrada**\n",
    "\n",
    "- Fonte de dados: [kaggle](https://www.kaggle.com/competitions/instyle-nps/data);\n",
    "- Ferramentas: Jupyter."
   ]
  },
  {
   "cell_type": "markdown",
   "id": "c263210b",
   "metadata": {},
   "source": [
    "## I.4. Determinar o objetivo da mineração"
   ]
  },
  {
   "cell_type": "markdown",
   "id": "16c3df9d",
   "metadata": {},
   "source": [
    "**Descrever os cenários**\n",
    "\n",
    "**Cenário 1: Classificação de clientes em satisfeito ou insatisfeito**\n",
    "\n",
    "* Dado que o time de Customer Experience possui uma planilha com dados de clientes\n",
    "* Quando o algoritmo de previsão é executado para classificar os clientes em \"Satisfeito\" ou \"Insatisfeito”\n",
    "* Então o algoritmo deve atribuir o status de satisfação a cada cliente com **maior precisão**\n",
    "\n",
    "**Cenário 2: Análise das principais razões de insatisfação**\n",
    "    \n",
    "* Dado que o algoritmo identificou os clientes classificados como \"Insatisfeito”\n",
    "* Quando analisamos os principais motivos de insatisfação\n",
    "* Então deve obter insights sobre os problemas mais recorrentes enfrentados pelos clientes"
   ]
  },
  {
   "cell_type": "markdown",
   "id": "a5cefde9",
   "metadata": {},
   "source": [
    "# 0. IMPORTS"
   ]
  },
  {
   "cell_type": "markdown",
   "id": "275631c6",
   "metadata": {},
   "source": [
    "## 0.1. Importing libraries"
   ]
  },
  {
   "cell_type": "code",
   "execution_count": 23,
   "id": "1252ae82",
   "metadata": {
    "ExecuteTime": {
     "end_time": "2023-07-31T18:04:02.035866Z",
     "start_time": "2023-07-31T18:04:01.993539Z"
    }
   },
   "outputs": [],
   "source": [
    "import pandas as pd"
   ]
  },
  {
   "cell_type": "markdown",
   "id": "1474c9bd",
   "metadata": {},
   "source": [
    "## 0.2. Loading data"
   ]
  },
  {
   "cell_type": "code",
   "execution_count": 24,
   "id": "cd2ac4a2",
   "metadata": {
    "ExecuteTime": {
     "end_time": "2023-07-31T18:04:51.016442Z",
     "start_time": "2023-07-31T18:04:50.296556Z"
    }
   },
   "outputs": [],
   "source": [
    "df_raw = pd.read_csv('../datasets/train.csv')"
   ]
  },
  {
   "cell_type": "markdown",
   "id": "d0bbd078",
   "metadata": {},
   "source": []
  }
 ],
 "metadata": {
  "kernelspec": {
   "display_name": "Python 3 (ipykernel)",
   "language": "python",
   "name": "python3"
  },
  "language_info": {
   "codemirror_mode": {
    "name": "ipython",
    "version": 3
   },
   "file_extension": ".py",
   "mimetype": "text/x-python",
   "name": "python",
   "nbconvert_exporter": "python",
   "pygments_lexer": "ipython3",
   "version": "3.8.16"
  }
 },
 "nbformat": 4,
 "nbformat_minor": 5
}
