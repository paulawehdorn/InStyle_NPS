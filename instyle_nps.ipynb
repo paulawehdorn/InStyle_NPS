{
 "cells": [
  {
   "cell_type": "markdown",
   "id": "ba115011",
   "metadata": {},
   "source": [
    "# I. Business understanting"
   ]
  },
  {
   "cell_type": "markdown",
   "id": "02ba565c",
   "metadata": {},
   "source": [
    "## I.1. Avaliar a situação"
   ]
  },
  {
   "cell_type": "markdown",
   "id": "e8ca1ad1",
   "metadata": {},
   "source": [
    "**1. Descrição do problema de negócio**\n",
    "\n",
    "A InStyle é uma das maiores lojas de roupas dos Estados Unidos que passa por problemas de customer experience ou experiência do cliente.\n",
    "    \n",
    "O grande desafio de escalar o faturamento de uma loja é manter a qualidade do produto e a taxa de satisfação do cliente em alta.\n",
    "    \n",
    "À medida que a empresa alcance mais clientes, os processos internos de vendas que começa com a concepção do produto, passam pela divulgação do marketing e chegam até os sistemas de pagamento do financeiro começam a apresentar problemas.\n",
    "    \n",
    "O time de produtos tem dificuldade em determinar a necessidade da maioria dos clientes. O time de marketing enfrente desafios para determinar o cliente ideal e o time de desenvolvimento sofre com os grandes volumes de acessos no site e em seu aplicativo, causando quedas de sistema e tornando o site inoperante por algumas horas, impedindo as pessoas de comprar e assim, gerando muitas reclamações no atendimento, liderado pelo time de customer experience.\n",
    "    \n",
    "Portanto, a medição da satisfação dos clientes é extremamente importante para a empresa manter a boa reputação no mercado.\n",
    "\n",
    "**2. Contexto do problema**\n",
    "    \n",
    "A empresa é uma das maiores lojas de roupas dos Estados Unidos e está experimentando um notável crescimento e esta escalada traz consigo desafios para manter a qualidade do produto e a satisfação do cliente em níveis elevados.\n",
    "\n",
    "**3. Identificar o ponto verdadeiro ponto focal / público alvo**\n",
    "    \n",
    "O time de customer experience desempenha um papel crucial como guardião da boa reputação da empresa, sendo responsável por monitorar métricas de desempenho relacionadas à satisfação do cliente. Diante disso, o projeto será iniciado com um enfoque voltado à perspectiva dessa equipe."
   ]
  },
  {
   "cell_type": "markdown",
   "id": "4844ca32",
   "metadata": {},
   "source": [
    "## I.2. Determinar o objetivo do negócio"
   ]
  },
  {
   "cell_type": "markdown",
   "id": "163f3175",
   "metadata": {},
   "source": [
    "**1. Por que é importante para o negócio?**\n",
    "\n",
    "A medição da satisfação dos clientes é extremamente importante para a empresa na totalidade. Pois, permite entender as necessidades dos clientes, suas expectativas e desafios internos para fornecer soluções que atendam às suas demandas.\n",
    "\n",
    "**2. Quais são as dores / desafio / problema atual?**\n",
    "\n",
    "O time de produtos tem dificuldade em determinar a necessidade da maioria dos clientes. O time de marketing enfrente desafios para determinar o cliente ideal e o time de desenvolvimento sofre com os grandes volumes de acessos no site e em seu aplicativo, causando quedas de sistema e tornando o site inoperante por algumas horas, impedindo as pessoas de comprar e assim, gerando muitas reclamações no atendimento, liderado pelo time de customer experience.\n",
    "\n",
    "**3. Quais são os resultados esperados? Quais as principais consequências esperadas?**\n",
    "\n",
    "O objetivo principal do projeto é **desenvolver um algoritmo de previsão de satisfação do cliente e fornecer informações valiosas ao time de customer experience**, permitindo-lhes analisar e compreender como a empresa pode aprimorar seus produtos, serviços e processos internos. \n",
    "\n",
    "Os próximos passos são: priorizar as melhorias e acompanhar os demais times em suas respectivas necessidades."
   ]
  },
  {
   "cell_type": "markdown",
   "id": "54d72d70",
   "metadata": {},
   "source": [
    "## I.3. Produzir o plano do projeto"
   ]
  },
  {
   "cell_type": "markdown",
   "id": "503de6d5",
   "metadata": {},
   "source": [
    "**1. Saída**\n",
    "\n",
    "Algoritmo de previsão de satisfação do cliente e possíveis insigths.\n",
    "\n",
    "**2. Processo**\n",
    "\n",
    "- Utilizar o framework CRISP-DM como passso a passo.\n",
    "- Tabela de satisfação dos clientes;\n",
    "- Gráficos de visualização.\n",
    "\n",
    "**3. Entrada**\n",
    "\n",
    "- Fonte de dados: [kaggle](https://www.kaggle.com/competitions/instyle-nps/data);\n",
    "- Ferramentas: Jupyter."
   ]
  },
  {
   "cell_type": "markdown",
   "id": "477761ab",
   "metadata": {},
   "source": [
    "## I.4. Determinar o objetivo da mineração"
   ]
  },
  {
   "cell_type": "markdown",
   "id": "23ec2d19",
   "metadata": {},
   "source": [
    "**Descrever os cenários**\n",
    "\n",
    "**Cenário 1: Classificação de clientes em satisfeito ou insatisfeito**\n",
    "\n",
    "* Dado que o time de Customer Experience possui uma planilha com dados de clientes\n",
    "* Quando o algoritmo de previsão é executado para classificar os clientes em \"Satisfeito\" ou \"Insatisfeito”\n",
    "* Então o algoritmo deve atribuir o status de satisfação a cada cliente com **maior precisão**\n",
    "\n",
    "**Cenário 2: Análise das principais razões de insatisfação**\n",
    "    \n",
    "* Dado que o algoritmo identificou os clientes classificados como \"Insatisfeito”\n",
    "* Quando analisamos os principais motivos de insatisfação\n",
    "* Então deve obter insights sobre os problemas mais recorrentes enfrentados pelos clientes"
   ]
  },
  {
   "cell_type": "markdown",
   "id": "f0f3017d",
   "metadata": {},
   "source": [
    "# 0. IMPORTS"
   ]
  },
  {
   "cell_type": "markdown",
   "id": "f6aed755",
   "metadata": {},
   "source": [
    "## 0.1. Importing libraries"
   ]
  },
  {
   "cell_type": "code",
   "execution_count": 27,
   "id": "43790391",
   "metadata": {
    "ExecuteTime": {
     "end_time": "2023-07-31T18:35:46.843670Z",
     "start_time": "2023-07-31T18:35:46.819829Z"
    }
   },
   "outputs": [],
   "source": [
    "import pandas as pd\n",
    "import inflection"
   ]
  },
  {
   "cell_type": "markdown",
   "id": "2218a272",
   "metadata": {},
   "source": [
    "## 0.2. Loading data"
   ]
  },
  {
   "cell_type": "code",
   "execution_count": 24,
   "id": "0b4b453e",
   "metadata": {
    "ExecuteTime": {
     "end_time": "2023-07-31T18:04:51.016442Z",
     "start_time": "2023-07-31T18:04:50.296556Z"
    }
   },
   "outputs": [],
   "source": [
    "df_raw = pd.read_csv('../datasets/train.csv')"
   ]
  },
  {
   "cell_type": "markdown",
   "id": "962f1c06",
   "metadata": {},
   "source": [
    "## 0.3. Helper functions"
   ]
  },
  {
   "cell_type": "code",
   "execution_count": null,
   "id": "03a3b9f2",
   "metadata": {},
   "outputs": [],
   "source": [
    "# Function Rename columns\n",
    "def rename_columns(cols):\n",
    "    cols = list(map(lambda x: inflection.titleize(x), cols))\n",
    "    cols = list(map(lambda x: x.replace(\" \", \"\"), cols))\n",
    "    cols = list(map(lambda x: inflection.underscore(x), cols))\n",
    "    return cols"
   ]
  },
  {
   "cell_type": "markdown",
   "id": "a66fdf0e",
   "metadata": {},
   "source": [
    "# 1. DATA DESCRIPTION"
   ]
  },
  {
   "cell_type": "code",
   "execution_count": 26,
   "id": "a8374fba",
   "metadata": {
    "ExecuteTime": {
     "end_time": "2023-07-31T18:33:18.685526Z",
     "start_time": "2023-07-31T18:33:18.638009Z"
    }
   },
   "outputs": [],
   "source": [
    "df1 = df_raw.copy()"
   ]
  },
  {
   "cell_type": "markdown",
   "id": "a14a1d13",
   "metadata": {},
   "source": [
    "## 1.1. Renomear colunas"
   ]
  },
  {
   "cell_type": "code",
   "execution_count": 30,
   "id": "04eadc8b",
   "metadata": {
    "ExecuteTime": {
     "end_time": "2023-07-31T18:38:33.035171Z",
     "start_time": "2023-07-31T18:38:32.943431Z"
    }
   },
   "outputs": [
    {
     "data": {
      "text/html": [
       "<div>\n",
       "<style scoped>\n",
       "    .dataframe tbody tr th:only-of-type {\n",
       "        vertical-align: middle;\n",
       "    }\n",
       "\n",
       "    .dataframe tbody tr th {\n",
       "        vertical-align: top;\n",
       "    }\n",
       "\n",
       "    .dataframe thead th {\n",
       "        text-align: right;\n",
       "    }\n",
       "</style>\n",
       "<table border=\"1\" class=\"dataframe\">\n",
       "  <thead>\n",
       "    <tr style=\"text-align: right;\">\n",
       "      <th></th>\n",
       "      <th>id</th>\n",
       "      <th>gender</th>\n",
       "      <th>customer_type</th>\n",
       "      <th>age</th>\n",
       "      <th>type_of_purchase</th>\n",
       "      <th>store_size</th>\n",
       "      <th>store_distance</th>\n",
       "      <th>in_store_wifi</th>\n",
       "      <th>open/close_time_convenient</th>\n",
       "      <th>easy_of_online_shopping</th>\n",
       "      <th>...</th>\n",
       "      <th>kids_entertainment</th>\n",
       "      <th>seller_service</th>\n",
       "      <th>showroom</th>\n",
       "      <th>self_store</th>\n",
       "      <th>purchase_service</th>\n",
       "      <th>store_service</th>\n",
       "      <th>cleanliness</th>\n",
       "      <th>carrier_delay_in_minutes</th>\n",
       "      <th>delivery_delay_in_minutes</th>\n",
       "      <th>satisfaction</th>\n",
       "    </tr>\n",
       "  </thead>\n",
       "  <tbody>\n",
       "    <tr>\n",
       "      <th>0</th>\n",
       "      <td>70172</td>\n",
       "      <td>Male</td>\n",
       "      <td>Loyal Customer</td>\n",
       "      <td>13</td>\n",
       "      <td>Personal</td>\n",
       "      <td>Small</td>\n",
       "      <td>460</td>\n",
       "      <td>3</td>\n",
       "      <td>4</td>\n",
       "      <td>3</td>\n",
       "      <td>...</td>\n",
       "      <td>5</td>\n",
       "      <td>4</td>\n",
       "      <td>3</td>\n",
       "      <td>4</td>\n",
       "      <td>4</td>\n",
       "      <td>5</td>\n",
       "      <td>5</td>\n",
       "      <td>25</td>\n",
       "      <td>18.0</td>\n",
       "      <td>Neutral or Dissatisfaction</td>\n",
       "    </tr>\n",
       "    <tr>\n",
       "      <th>1</th>\n",
       "      <td>5047</td>\n",
       "      <td>Male</td>\n",
       "      <td>disloyal Customer</td>\n",
       "      <td>25</td>\n",
       "      <td>Gift</td>\n",
       "      <td>Large</td>\n",
       "      <td>235</td>\n",
       "      <td>3</td>\n",
       "      <td>2</td>\n",
       "      <td>3</td>\n",
       "      <td>...</td>\n",
       "      <td>1</td>\n",
       "      <td>1</td>\n",
       "      <td>5</td>\n",
       "      <td>3</td>\n",
       "      <td>1</td>\n",
       "      <td>4</td>\n",
       "      <td>1</td>\n",
       "      <td>1</td>\n",
       "      <td>6.0</td>\n",
       "      <td>Neutral or Dissatisfaction</td>\n",
       "    </tr>\n",
       "    <tr>\n",
       "      <th>2</th>\n",
       "      <td>110028</td>\n",
       "      <td>Female</td>\n",
       "      <td>Loyal Customer</td>\n",
       "      <td>26</td>\n",
       "      <td>Gift</td>\n",
       "      <td>Large</td>\n",
       "      <td>1142</td>\n",
       "      <td>2</td>\n",
       "      <td>2</td>\n",
       "      <td>2</td>\n",
       "      <td>...</td>\n",
       "      <td>5</td>\n",
       "      <td>4</td>\n",
       "      <td>3</td>\n",
       "      <td>4</td>\n",
       "      <td>4</td>\n",
       "      <td>4</td>\n",
       "      <td>5</td>\n",
       "      <td>0</td>\n",
       "      <td>0.0</td>\n",
       "      <td>Satisfied</td>\n",
       "    </tr>\n",
       "    <tr>\n",
       "      <th>3</th>\n",
       "      <td>24026</td>\n",
       "      <td>Female</td>\n",
       "      <td>Loyal Customer</td>\n",
       "      <td>25</td>\n",
       "      <td>Gift</td>\n",
       "      <td>Large</td>\n",
       "      <td>562</td>\n",
       "      <td>2</td>\n",
       "      <td>5</td>\n",
       "      <td>5</td>\n",
       "      <td>...</td>\n",
       "      <td>2</td>\n",
       "      <td>2</td>\n",
       "      <td>5</td>\n",
       "      <td>3</td>\n",
       "      <td>1</td>\n",
       "      <td>4</td>\n",
       "      <td>2</td>\n",
       "      <td>11</td>\n",
       "      <td>9.0</td>\n",
       "      <td>Neutral or Dissatisfaction</td>\n",
       "    </tr>\n",
       "    <tr>\n",
       "      <th>4</th>\n",
       "      <td>119299</td>\n",
       "      <td>Male</td>\n",
       "      <td>Loyal Customer</td>\n",
       "      <td>61</td>\n",
       "      <td>Gift</td>\n",
       "      <td>Large</td>\n",
       "      <td>214</td>\n",
       "      <td>3</td>\n",
       "      <td>3</td>\n",
       "      <td>3</td>\n",
       "      <td>...</td>\n",
       "      <td>3</td>\n",
       "      <td>3</td>\n",
       "      <td>4</td>\n",
       "      <td>4</td>\n",
       "      <td>3</td>\n",
       "      <td>3</td>\n",
       "      <td>3</td>\n",
       "      <td>0</td>\n",
       "      <td>0.0</td>\n",
       "      <td>Satisfied</td>\n",
       "    </tr>\n",
       "  </tbody>\n",
       "</table>\n",
       "<p>5 rows × 24 columns</p>\n",
       "</div>"
      ],
      "text/plain": [
       "       id  gender      customer_type  age type_of_purchase store_size  \\\n",
       "0   70172    Male     Loyal Customer   13         Personal      Small   \n",
       "1    5047    Male  disloyal Customer   25             Gift      Large   \n",
       "2  110028  Female     Loyal Customer   26             Gift      Large   \n",
       "3   24026  Female     Loyal Customer   25             Gift      Large   \n",
       "4  119299    Male     Loyal Customer   61             Gift      Large   \n",
       "\n",
       "   store_distance  in_store_wifi  open/close_time_convenient  \\\n",
       "0             460              3                           4   \n",
       "1             235              3                           2   \n",
       "2            1142              2                           2   \n",
       "3             562              2                           5   \n",
       "4             214              3                           3   \n",
       "\n",
       "   easy_of_online_shopping  ...  kids_entertainment  seller_service  showroom  \\\n",
       "0                        3  ...                   5               4         3   \n",
       "1                        3  ...                   1               1         5   \n",
       "2                        2  ...                   5               4         3   \n",
       "3                        5  ...                   2               2         5   \n",
       "4                        3  ...                   3               3         4   \n",
       "\n",
       "   self_store  purchase_service  store_service  cleanliness  \\\n",
       "0           4                 4              5            5   \n",
       "1           3                 1              4            1   \n",
       "2           4                 4              4            5   \n",
       "3           3                 1              4            2   \n",
       "4           4                 3              3            3   \n",
       "\n",
       "   carrier_delay_in_minutes  delivery_delay_in_minutes  \\\n",
       "0                        25                       18.0   \n",
       "1                         1                        6.0   \n",
       "2                         0                        0.0   \n",
       "3                        11                        9.0   \n",
       "4                         0                        0.0   \n",
       "\n",
       "                 satisfaction  \n",
       "0  Neutral or Dissatisfaction  \n",
       "1  Neutral or Dissatisfaction  \n",
       "2                   Satisfied  \n",
       "3  Neutral or Dissatisfaction  \n",
       "4                   Satisfied  \n",
       "\n",
       "[5 rows x 24 columns]"
      ]
     },
     "execution_count": 30,
     "metadata": {},
     "output_type": "execute_result"
    }
   ],
   "source": [
    "df1.columns = rename_columns(df1.columns)\n",
    "df1.head()"
   ]
  }
 ],
 "metadata": {
  "kernelspec": {
   "display_name": "Python 3 (ipykernel)",
   "language": "python",
   "name": "python3"
  },
  "language_info": {
   "codemirror_mode": {
    "name": "ipython",
    "version": 3
   },
   "file_extension": ".py",
   "mimetype": "text/x-python",
   "name": "python",
   "nbconvert_exporter": "python",
   "pygments_lexer": "ipython3",
   "version": "3.8.16"
  }
 },
 "nbformat": 4,
 "nbformat_minor": 5
}
